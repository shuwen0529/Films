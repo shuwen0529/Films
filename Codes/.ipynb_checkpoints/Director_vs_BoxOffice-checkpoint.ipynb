{
 "cells": [
  {
   "cell_type": "code",
   "execution_count": 5,
   "metadata": {},
   "outputs": [],
   "source": [
    "from matplotlib import pyplot as plt\n",
    "import numpy as np\n",
    "import pandas as pd\n",
    "\n",
    "import locale\n",
    "locale.setlocale( locale.LC_ALL, \"en_US.UTF-8\")\n",
    "\n",
    "### Load file and get series\n",
    "movie = pd.read_csv(\"../Resources/US_movies_cleanup.csv\")\n",
    "movie.drop(columns = [\"Unnamed: 0\"], inplace=True)\n",
    "### Drop all NaN based on Box Office\n",
    "movie.dropna(subset=[\"Box Office\"], how='all', inplace = True)\n",
    "\n",
    "Director = movie[\"Director\"].tolist()        \n",
    "BoxOffice= movie[\"Box Office\"].tolist() \n",
    "L = len(BoxOffice)"
   ]
  },
  {
   "cell_type": "code",
   "execution_count": 16,
   "metadata": {},
   "outputs": [],
   "source": [
    "### Load Directors counts and get top20\n",
    "movie_director = pd.read_csv(\"../Resources/US_movies_Director.csv\")\n",
    "movie_director.sort_values(by=[\"Director Counts\"], ascending=False, inplace= True)\n",
    "Director_top20 = movie_director[1:21].copy()[\"Director\"].tolist()"
   ]
  },
  {
   "cell_type": "code",
   "execution_count": 18,
   "metadata": {},
   "outputs": [
    {
     "name": "stdout",
     "output_type": "stream",
     "text": [
      "Woody Allen\n",
      "Clint Eastwood\n",
      "Steven Spielberg\n",
      "Martin Scorsese\n",
      "Joel Schumacher\n",
      "Ron Howard\n",
      "Sidney Lumet\n",
      "Michael Apted\n",
      "Brian De Palma\n",
      "Stephen Frears\n",
      "Steven Soderbergh\n",
      "Barry Levinson\n",
      "Ridley Scott\n",
      "Spike Lee\n",
      "Walter Hill\n",
      "Robert Altman\n",
      "Wes Craven\n",
      "Robert Zemeckis\n",
      "David Cronenberg\n",
      "Herbert Ross\n"
     ]
    }
   ],
   "source": [
    "### Get BoxOffice by Director\n",
    "BoxOffice_by_Director = np.zeros(20)\n",
    "D = len(Director_top20)\n",
    "for d in range(D):\n",
    "    director = Director_top20[d]\n",
    "    print(director)\n",
    "    for l in range(L):\n",
    "#         Genre_type  = [x.strip() for x in Genre[l].split(',')]\n",
    "#         if genre in Genre_type:\n",
    "#             BoxOffice_num = locale.atof(BoxOffice[l].strip(\"$\"))\n",
    "#             BoxOffice_by_Genre[g] = BoxOffice_by_Genre[g]+BoxOffice_num\n",
    "            \n",
    "# BoxOffice_billion =  BoxOffice_by_Genre/1e9"
   ]
  },
  {
   "cell_type": "code",
   "execution_count": null,
   "metadata": {},
   "outputs": [],
   "source": []
  }
 ],
 "metadata": {
  "kernelspec": {
   "display_name": "Python 3",
   "language": "python",
   "name": "python3"
  },
  "language_info": {
   "codemirror_mode": {
    "name": "ipython",
    "version": 3
   },
   "file_extension": ".py",
   "mimetype": "text/x-python",
   "name": "python",
   "nbconvert_exporter": "python",
   "pygments_lexer": "ipython3",
   "version": "3.7.3"
  }
 },
 "nbformat": 4,
 "nbformat_minor": 2
}

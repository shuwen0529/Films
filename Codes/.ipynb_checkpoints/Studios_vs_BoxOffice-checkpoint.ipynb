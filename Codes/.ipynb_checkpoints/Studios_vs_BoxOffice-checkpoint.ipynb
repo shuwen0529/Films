{
 "cells": [
  {
   "cell_type": "code",
   "execution_count": 1,
   "metadata": {},
   "outputs": [
    {
     "data": {
      "text/plain": [
       "'en_US.UTF-8'"
      ]
     },
     "execution_count": 1,
     "metadata": {},
     "output_type": "execute_result"
    }
   ],
   "source": [
    "import pandas as pd\n",
    "import numpy as np\n",
    "import requests\n",
    "import json\n",
    "from pprint import pprint\n",
    "from matplotlib import pyplot as plt\n",
    "import locale\n",
    "locale.setlocale( locale.LC_ALL, \"en_US.UTF-8\")"
   ]
  },
  {
   "cell_type": "code",
   "execution_count": 4,
   "metadata": {},
   "outputs": [
    {
     "data": {
      "text/html": [
       "<div>\n",
       "<style scoped>\n",
       "    .dataframe tbody tr th:only-of-type {\n",
       "        vertical-align: middle;\n",
       "    }\n",
       "\n",
       "    .dataframe tbody tr th {\n",
       "        vertical-align: top;\n",
       "    }\n",
       "\n",
       "    .dataframe thead th {\n",
       "        text-align: right;\n",
       "    }\n",
       "</style>\n",
       "<table border=\"1\" class=\"dataframe\">\n",
       "  <thead>\n",
       "    <tr style=\"text-align: right;\">\n",
       "      <th></th>\n",
       "      <th>Unnamed: 0</th>\n",
       "      <th>Production</th>\n",
       "      <th>Production Counts</th>\n",
       "    </tr>\n",
       "  </thead>\n",
       "  <tbody>\n",
       "    <tr>\n",
       "      <th>12</th>\n",
       "      <td>12</td>\n",
       "      <td>Warner Bros. Pictures</td>\n",
       "      <td>378</td>\n",
       "    </tr>\n",
       "    <tr>\n",
       "      <th>4</th>\n",
       "      <td>4</td>\n",
       "      <td>Universal Pictures</td>\n",
       "      <td>377</td>\n",
       "    </tr>\n",
       "    <tr>\n",
       "      <th>110</th>\n",
       "      <td>110</td>\n",
       "      <td>Sony Pictures Home Entertainment</td>\n",
       "      <td>344</td>\n",
       "    </tr>\n",
       "    <tr>\n",
       "      <th>11</th>\n",
       "      <td>11</td>\n",
       "      <td>Paramount Pictures</td>\n",
       "      <td>337</td>\n",
       "    </tr>\n",
       "    <tr>\n",
       "      <th>3</th>\n",
       "      <td>3</td>\n",
       "      <td>20th Century Fox</td>\n",
       "      <td>318</td>\n",
       "    </tr>\n",
       "    <tr>\n",
       "      <th>130</th>\n",
       "      <td>130</td>\n",
       "      <td>Warner Home Video</td>\n",
       "      <td>265</td>\n",
       "    </tr>\n",
       "    <tr>\n",
       "      <th>107</th>\n",
       "      <td>107</td>\n",
       "      <td>MCA Universal Home Video</td>\n",
       "      <td>170</td>\n",
       "    </tr>\n",
       "    <tr>\n",
       "      <th>41</th>\n",
       "      <td>41</td>\n",
       "      <td>MGM</td>\n",
       "      <td>162</td>\n",
       "    </tr>\n",
       "    <tr>\n",
       "      <th>2</th>\n",
       "      <td>2</td>\n",
       "      <td>Columbia Pictures</td>\n",
       "      <td>160</td>\n",
       "    </tr>\n",
       "    <tr>\n",
       "      <th>105</th>\n",
       "      <td>105</td>\n",
       "      <td>MGM Home Entertainment</td>\n",
       "      <td>151</td>\n",
       "    </tr>\n",
       "  </tbody>\n",
       "</table>\n",
       "</div>"
      ],
      "text/plain": [
       "     Unnamed: 0                        Production  Production Counts\n",
       "12           12             Warner Bros. Pictures                378\n",
       "4             4                Universal Pictures                377\n",
       "110         110  Sony Pictures Home Entertainment                344\n",
       "11           11                Paramount Pictures                337\n",
       "3             3                  20th Century Fox                318\n",
       "130         130                 Warner Home Video                265\n",
       "107         107          MCA Universal Home Video                170\n",
       "41           41                               MGM                162\n",
       "2             2                 Columbia Pictures                160\n",
       "105         105            MGM Home Entertainment                151"
      ]
     },
     "execution_count": 4,
     "metadata": {},
     "output_type": "execute_result"
    }
   ],
   "source": [
    "production_movies = pd.read_csv(\"../Resources/US_movies_Production.csv\", encoding =\"ISO-8859-1\")\n",
    "production_movies.head()\n",
    "\n",
    "#sort ascending\n",
    "prod_sort = production_movies.sort_values(by=['Production Counts'], ascending=False).head(20)\n",
    "# prod_sort_figure = production_movies.sort_values(by=['Production Counts']).tail(20)\n",
    "#drop count of N/A\n",
    "top_ten = prod_sort[1:11]\n",
    "# top_ten_figure = prod_sort_figure[11:20]\n",
    "#get top studios\n",
    "#top10list = top_ten[\"Production\"].tolist()\n",
    "top_ten"
   ]
  },
  {
   "cell_type": "code",
   "execution_count": null,
   "metadata": {
    "scrolled": true
   },
   "outputs": [],
   "source": [
    "#graph\n",
    "ax = top_ten.plot.barh(x='Production', y='Production Counts')\n",
    "\n",
    "#sort from greatest to least\n",
    "plt.gca().invert_yaxis()"
   ]
  },
  {
   "cell_type": "code",
   "execution_count": null,
   "metadata": {},
   "outputs": [],
   "source": [
    "movie = pd.read_csv(\"Resources/US_movies_cleanup.csv\")\n",
    "movie.drop(columns = [\"Unnamed: 0\"], inplace=True)\n",
    "### Drop all NaN based on Box Office\n",
    "movie.dropna(subset=[\"Box Office\"], how='all', inplace = True)\n",
    "movie.dropna(subset=[\"Production\"], how='all', inplace = True)\n",
    "\n",
    "#top10prod = top_ten[\"Production\"].tolist()        \n",
    "\n",
    "BoxOffice = movie[\"Box Office\"].tolist() \n",
    "all_studios = movie[\"Production\"].tolist()\n",
    "L = len(BoxOffice)\n",
    "\n",
    "#print(top10prod)\n",
    "#print(BoxOffice)"
   ]
  },
  {
   "cell_type": "code",
   "execution_count": null,
   "metadata": {},
   "outputs": [],
   "source": [
    "### Get BoxOffice by Production\n",
    "BoxOffice_by_Prod = np.zeros(10)\n",
    "P = len(top10list)\n",
    "for p in range(P):\n",
    "    prod = top10list[p]\n",
    "    print(prod)\n",
    "    for l in range(L):\n",
    "        if prod in all_studios[l]:\n",
    "            BoxOffice_num = locale.atof(BoxOffice[l].strip(\"$\"))\n",
    "            BoxOffice_by_Prod[p] = BoxOffice_by_Prod[p]+BoxOffice_num\n",
    "            \n",
    "#BoxOffice_million =  BoxOffice_by_Prod/1e9"
   ]
  },
  {
   "cell_type": "code",
   "execution_count": null,
   "metadata": {},
   "outputs": [],
   "source": [
    "#BoxOffice_million\n",
    "P"
   ]
  },
  {
   "cell_type": "code",
   "execution_count": null,
   "metadata": {},
   "outputs": [],
   "source": [
    "### Plot Figure\n",
    "fig, ax = plt.subplots(figsize=(10, 8))\n",
    "\n",
    "plt.bar(range(P), BoxOffice_million, alpha=0.7, edgecolor=\"k\", lw=2)\n",
    "\n",
    "rects = ax.patches\n",
    "for rect, label in zip(rects, BoxOffice_million):\n",
    "    height = rect.get_height()\n",
    "    ax.text(rect.get_x()+rect.get_width()/2, height, \n",
    "            int(np.round(label)),\n",
    "            ha='center', va='bottom', fontsize=15, weight=\"bold\")\n",
    "    \n",
    "plt.xticks(range(P), top10list, fontsize=15, weight=\"bold\", rotation=90)\n",
    "#plt.yticks(np.arange(0,200,50), fontsize=15, weight=\"bold\")\n",
    "plt.ylabel(\"Box Office (billions)\", fontsize=15, weight=\"bold\")\n",
    "\n",
    "ax.xaxis.set_tick_params(width=3, size=10)\n",
    "ax.yaxis.set_tick_params(width=3, size=10)\n",
    "\n",
    "plt.tight_layout()\n",
    "#plt.savefig(\"../Figures/Movie_Genre_BoxOffice_BarPlot.png\")\n",
    "plt.show()"
   ]
  },
  {
   "cell_type": "code",
   "execution_count": null,
   "metadata": {},
   "outputs": [],
   "source": []
  }
 ],
 "metadata": {
  "kernelspec": {
   "display_name": "Python 3",
   "language": "python",
   "name": "python3"
  },
  "language_info": {
   "codemirror_mode": {
    "name": "ipython",
    "version": 3
   },
   "file_extension": ".py",
   "mimetype": "text/x-python",
   "name": "python",
   "nbconvert_exporter": "python",
   "pygments_lexer": "ipython3",
   "version": "3.7.3"
  }
 },
 "nbformat": 4,
 "nbformat_minor": 2
}

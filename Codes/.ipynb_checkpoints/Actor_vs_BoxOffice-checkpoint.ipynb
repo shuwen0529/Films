{
 "cells": [
  {
   "cell_type": "code",
   "execution_count": 3,
   "metadata": {},
   "outputs": [],
   "source": [
    "from matplotlib import pyplot as plt\n",
    "import numpy as np\n",
    "import pandas as pd\n",
    "\n",
    "import locale\n",
    "locale.setlocale( locale.LC_ALL, \"en_US.UTF-8\")\n",
    "\n",
    "### Load file and get series\n",
    "movie = pd.read_csv(\"../Resources/US_movies_cleanup.csv\")\n",
    "movie.drop(columns = [\"Unnamed: 0\"], inplace=True)\n",
    "### Drop all NaN based on Box Office\n",
    "movie.dropna(subset=[\"Box Office\"], how='all', inplace = True)\n",
    "\n",
    "Actor = movie[\"Actor\"].tolist()        \n",
    "BoxOffice= movie[\"Box Office\"].tolist() \n",
    "L = len(BoxOffice)"
   ]
  },
  {
   "cell_type": "code",
   "execution_count": 4,
   "metadata": {},
   "outputs": [
    {
     "data": {
      "text/plain": [
       "2878"
      ]
     },
     "execution_count": 4,
     "metadata": {},
     "output_type": "execute_result"
    }
   ],
   "source": [
    "### Load Actors counts and get top20\n",
    "movie_director = pd.read_csv(\"../Resources/US_movies_Director.csv\")\n",
    "movie_director.sort_values(by=[\"Director Counts\"], ascending=False, inplace= True)\n",
    "# movie_director.head()\n",
    "Director_top20 = movie_director[1:21].copy()[\"Director\"].tolist()\n",
    "Director_count_top20 = movie_director[1:21].copy()[\"Director Counts\"].tolist()"
   ]
  },
  {
   "cell_type": "code",
   "execution_count": null,
   "metadata": {},
   "outputs": [],
   "source": []
  }
 ],
 "metadata": {
  "kernelspec": {
   "display_name": "Python 3",
   "language": "python",
   "name": "python3"
  },
  "language_info": {
   "codemirror_mode": {
    "name": "ipython",
    "version": 3
   },
   "file_extension": ".py",
   "mimetype": "text/x-python",
   "name": "python",
   "nbconvert_exporter": "python",
   "pygments_lexer": "ipython3",
   "version": "3.7.3"
  }
 },
 "nbformat": 4,
 "nbformat_minor": 2
}
